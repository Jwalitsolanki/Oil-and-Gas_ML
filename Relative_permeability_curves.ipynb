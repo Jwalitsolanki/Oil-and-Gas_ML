{
  "nbformat": 4,
  "nbformat_minor": 0,
  "metadata": {
    "colab": {
      "name": "Relative permeability curves.ipynb",
      "provenance": [],
      "authorship_tag": "ABX9TyORMATiiYcZVVQUYVwcrD4s",
      "include_colab_link": true
    },
    "kernelspec": {
      "name": "python3",
      "display_name": "Python 3"
    }
  },
  "cells": [
    {
      "cell_type": "markdown",
      "metadata": {
        "id": "view-in-github",
        "colab_type": "text"
      },
      "source": [
        "<a href=\"https://colab.research.google.com/github/Jwalitsolanki/Oil-and-Gas_ML/blob/master/Relative_permeability_curves.ipynb\" target=\"_parent\"><img src=\"https://colab.research.google.com/assets/colab-badge.svg\" alt=\"Open In Colab\"/></a>"
      ]
    },
    {
      "cell_type": "code",
      "metadata": {
        "id": "HouHCLmROs_f",
        "colab_type": "code",
        "colab": {}
      },
      "source": [
        "import pandas as pd\n",
        "import matplotlib.pyplot as plt\n",
        "import numpy as np\n",
        "import seaborn as sns\n",
        "sns.set()"
      ],
      "execution_count": null,
      "outputs": []
    },
    {
      "cell_type": "code",
      "metadata": {
        "id": "4QwbDQteO9tm",
        "colab_type": "code",
        "colab": {
          "base_uri": "https://localhost:8080/",
          "height": 233
        },
        "outputId": "e18ed6a1-63f8-4dab-e8bc-1b35e7a4130a"
      },
      "source": [
        "#from staedy state lab analysis\n",
        "data = [[0, 21.20, 0.00], [0.2, 18.00, 0.50], [0.4, 10.60, 1.40], [0.6, 3.00, 2.90], [0.8, 0.40, 6.50], [1.0, 0.00, 24.30]]\n",
        "df = pd.DataFrame(data, columns = ['Sw', 'qo', 'qw'])\n",
        "df"
      ],
      "execution_count": null,
      "outputs": [
        {
          "output_type": "execute_result",
          "data": {
            "text/html": [
              "<div>\n",
              "<style scoped>\n",
              "    .dataframe tbody tr th:only-of-type {\n",
              "        vertical-align: middle;\n",
              "    }\n",
              "\n",
              "    .dataframe tbody tr th {\n",
              "        vertical-align: top;\n",
              "    }\n",
              "\n",
              "    .dataframe thead th {\n",
              "        text-align: right;\n",
              "    }\n",
              "</style>\n",
              "<table border=\"1\" class=\"dataframe\">\n",
              "  <thead>\n",
              "    <tr style=\"text-align: right;\">\n",
              "      <th></th>\n",
              "      <th>Sw</th>\n",
              "      <th>qo</th>\n",
              "      <th>qw</th>\n",
              "    </tr>\n",
              "  </thead>\n",
              "  <tbody>\n",
              "    <tr>\n",
              "      <th>0</th>\n",
              "      <td>0.0</td>\n",
              "      <td>21.2</td>\n",
              "      <td>0.0</td>\n",
              "    </tr>\n",
              "    <tr>\n",
              "      <th>1</th>\n",
              "      <td>0.2</td>\n",
              "      <td>18.0</td>\n",
              "      <td>0.5</td>\n",
              "    </tr>\n",
              "    <tr>\n",
              "      <th>2</th>\n",
              "      <td>0.4</td>\n",
              "      <td>10.6</td>\n",
              "      <td>1.4</td>\n",
              "    </tr>\n",
              "    <tr>\n",
              "      <th>3</th>\n",
              "      <td>0.6</td>\n",
              "      <td>3.0</td>\n",
              "      <td>2.9</td>\n",
              "    </tr>\n",
              "    <tr>\n",
              "      <th>4</th>\n",
              "      <td>0.8</td>\n",
              "      <td>0.4</td>\n",
              "      <td>6.5</td>\n",
              "    </tr>\n",
              "    <tr>\n",
              "      <th>5</th>\n",
              "      <td>1.0</td>\n",
              "      <td>0.0</td>\n",
              "      <td>24.3</td>\n",
              "    </tr>\n",
              "  </tbody>\n",
              "</table>\n",
              "</div>"
            ],
            "text/plain": [
              "    Sw    qo    qw\n",
              "0  0.0  21.2   0.0\n",
              "1  0.2  18.0   0.5\n",
              "2  0.4  10.6   1.4\n",
              "3  0.6   3.0   2.9\n",
              "4  0.8   0.4   6.5\n",
              "5  1.0   0.0  24.3"
            ]
          },
          "metadata": {
            "tags": []
          },
          "execution_count": 2
        }
      ]
    },
    {
      "cell_type": "code",
      "metadata": {
        "id": "Su7sz2tyQzdc",
        "colab_type": "code",
        "colab": {
          "base_uri": "https://localhost:8080/",
          "height": 301
        },
        "outputId": "01c86d31-1bab-4581-9430-1dc04f6c3a97"
      },
      "source": [
        "p1 = plt.plot(df['Sw'], df['qo'])\n",
        "p2 = plt.plot(df['Sw'], df['qw'])\n",
        "plt.xlabel(\"Sw\")\n",
        "plt.ylabel(\"q_oil, q_water (cm3/min)\")\n",
        "plt.legend((p1[0], p2[0]), ('q_oil', 'q_water'))\n",
        "plt.title(\"Flow Rates\")\n",
        "plt.show()"
      ],
      "execution_count": null,
      "outputs": [
        {
          "output_type": "display_data",
          "data": {
            "image/png": "[encoded data removed]",
            "text/plain": [
              "<Figure size 432x288 with 1 Axes>"
            ]
          },
          "metadata": {
            "tags": []
          }
        }
      ]
    },
    {
      "cell_type": "code",
      "metadata": {
        "id": "q9yrRvroRUnF",
        "colab_type": "code",
        "colab": {}
      },
      "source": [
        "df['kr_o'] = df['qo'] / df['qo'][0]\n",
        "df['kr_w'] = df['qw'] / df['qw'][5]"
      ],
      "execution_count": null,
      "outputs": []
    },
    {
      "cell_type": "code",
      "metadata": {
        "id": "1hwDILYfpDKS",
        "colab_type": "code",
        "colab": {
          "base_uri": "https://localhost:8080/",
          "height": 233
        },
        "outputId": "ec17c94a-dfe8-4cd8-a627-2579b4e90968"
      },
      "source": [
        "df"
      ],
      "execution_count": null,
      "outputs": [
        {
          "output_type": "execute_result",
          "data": {
            "text/html": [
              "<div>\n",
              "<style scoped>\n",
              "    .dataframe tbody tr th:only-of-type {\n",
              "        vertical-align: middle;\n",
              "    }\n",
              "\n",
              "    .dataframe tbody tr th {\n",
              "        vertical-align: top;\n",
              "    }\n",
              "\n",
              "    .dataframe thead th {\n",
              "        text-align: right;\n",
              "    }\n",
              "</style>\n",
              "<table border=\"1\" class=\"dataframe\">\n",
              "  <thead>\n",
              "    <tr style=\"text-align: right;\">\n",
              "      <th></th>\n",
              "      <th>Sw</th>\n",
              "      <th>qo</th>\n",
              "      <th>qw</th>\n",
              "      <th>kr_o</th>\n",
              "      <th>kr_w</th>\n",
              "    </tr>\n",
              "  </thead>\n",
              "  <tbody>\n",
              "    <tr>\n",
              "      <th>0</th>\n",
              "      <td>0.0</td>\n",
              "      <td>21.2</td>\n",
              "      <td>0.0</td>\n",
              "      <td>1.000000</td>\n",
              "      <td>0.000000</td>\n",
              "    </tr>\n",
              "    <tr>\n",
              "      <th>1</th>\n",
              "      <td>0.2</td>\n",
              "      <td>18.0</td>\n",
              "      <td>0.5</td>\n",
              "      <td>0.849057</td>\n",
              "      <td>0.020576</td>\n",
              "    </tr>\n",
              "    <tr>\n",
              "      <th>2</th>\n",
              "      <td>0.4</td>\n",
              "      <td>10.6</td>\n",
              "      <td>1.4</td>\n",
              "      <td>0.500000</td>\n",
              "      <td>0.057613</td>\n",
              "    </tr>\n",
              "    <tr>\n",
              "      <th>3</th>\n",
              "      <td>0.6</td>\n",
              "      <td>3.0</td>\n",
              "      <td>2.9</td>\n",
              "      <td>0.141509</td>\n",
              "      <td>0.119342</td>\n",
              "    </tr>\n",
              "    <tr>\n",
              "      <th>4</th>\n",
              "      <td>0.8</td>\n",
              "      <td>0.4</td>\n",
              "      <td>6.5</td>\n",
              "      <td>0.018868</td>\n",
              "      <td>0.267490</td>\n",
              "    </tr>\n",
              "    <tr>\n",
              "      <th>5</th>\n",
              "      <td>1.0</td>\n",
              "      <td>0.0</td>\n",
              "      <td>24.3</td>\n",
              "      <td>0.000000</td>\n",
              "      <td>1.000000</td>\n",
              "    </tr>\n",
              "  </tbody>\n",
              "</table>\n",
              "</div>"
            ],
            "text/plain": [
              "    Sw    qo    qw      kr_o      kr_w\n",
              "0  0.0  21.2   0.0  1.000000  0.000000\n",
              "1  0.2  18.0   0.5  0.849057  0.020576\n",
              "2  0.4  10.6   1.4  0.500000  0.057613\n",
              "3  0.6   3.0   2.9  0.141509  0.119342\n",
              "4  0.8   0.4   6.5  0.018868  0.267490\n",
              "5  1.0   0.0  24.3  0.000000  1.000000"
            ]
          },
          "metadata": {
            "tags": []
          },
          "execution_count": 16
        }
      ]
    },
    {
      "cell_type": "code",
      "metadata": {
        "id": "UOolmJYTpN83",
        "colab_type": "code",
        "colab": {
          "base_uri": "https://localhost:8080/",
          "height": 301
        },
        "outputId": "069cb26a-485c-45c3-e96a-6e0aa5b9a982"
      },
      "source": [
        "p1 = plt.plot(df['Sw'], df['kr_o'])\n",
        "p2 = plt.plot(df['Sw'], df['kr_w'])\n",
        "plt.xlabel(\"Sw\")\n",
        "plt.ylabel(\"kr_o, kr_w\")\n",
        "plt.legend((p1[0], p2[0]), ('kr_o', 'kr_w'))\n",
        "plt.title(\"Relative Permeabilities\")\n",
        "plt.show()"
      ],
      "execution_count": null,
      "outputs": [
        {
          "output_type": "display_data",
          "data": {
            "image/png": "[encoded data removed]",
            "text/plain": [
              "<Figure size 432x288 with 1 Axes>"
            ]
          },
          "metadata": {
            "tags": []
          }
        }
      ]
    },
    {
      "cell_type": "code",
      "metadata": {
        "id": "K2cFtxrcpiHK",
        "colab_type": "code",
        "colab": {}
      },
      "source": [
        "#phase permeability\n",
        "u_oil = 5 #cp\n",
        "u_water = 1.2 #cp\n",
        "dP = -2.5\n",
        "core_area = 5 #cm2\n",
        "length_core  = 12 #cm"
      ],
      "execution_count": null,
      "outputs": []
    },
    {
      "cell_type": "code",
      "metadata": {
        "id": "qyzuK2nBxcXY",
        "colab_type": "code",
        "colab": {}
      },
      "source": [
        "df['k_o (phase k)'] = -(df['qo'] * u_oil / core_area) / (dP / length_core)\n",
        "df['k_w (phase k)'] = -(df['qw'] * u_water / core_area) / (dP / length_core)"
      ],
      "execution_count": null,
      "outputs": []
    },
    {
      "cell_type": "code",
      "metadata": {
        "id": "X4EixrEO5ew3",
        "colab_type": "code",
        "colab": {}
      },
      "source": [
        ""
      ],
      "execution_count": null,
      "outputs": []
    },
    {
      "cell_type": "code",
      "metadata": {
        "id": "DRkKoCjyyXYv",
        "colab_type": "code",
        "colab": {
          "base_uri": "https://localhost:8080/",
          "height": 233
        },
        "outputId": "c1ca5fc7-b512-4d3d-cb53-928c8c9ebfe6"
      },
      "source": [
        "df"
      ],
      "execution_count": null,
      "outputs": [
        {
          "output_type": "execute_result",
          "data": {
            "text/html": [
              "<div>\n",
              "<style scoped>\n",
              "    .dataframe tbody tr th:only-of-type {\n",
              "        vertical-align: middle;\n",
              "    }\n",
              "\n",
              "    .dataframe tbody tr th {\n",
              "        vertical-align: top;\n",
              "    }\n",
              "\n",
              "    .dataframe thead th {\n",
              "        text-align: right;\n",
              "    }\n",
              "</style>\n",
              "<table border=\"1\" class=\"dataframe\">\n",
              "  <thead>\n",
              "    <tr style=\"text-align: right;\">\n",
              "      <th></th>\n",
              "      <th>Sw</th>\n",
              "      <th>qo</th>\n",
              "      <th>qw</th>\n",
              "      <th>kr_o</th>\n",
              "      <th>kr_w</th>\n",
              "      <th>k_o</th>\n",
              "      <th>k_w</th>\n",
              "      <th>k_o (phase k)</th>\n",
              "      <th>k_w (phase k)</th>\n",
              "    </tr>\n",
              "  </thead>\n",
              "  <tbody>\n",
              "    <tr>\n",
              "      <th>0</th>\n",
              "      <td>0.0</td>\n",
              "      <td>21.2</td>\n",
              "      <td>0.0</td>\n",
              "      <td>1.000000</td>\n",
              "      <td>0.000000</td>\n",
              "      <td>101.76</td>\n",
              "      <td>0.0000</td>\n",
              "      <td>101.76</td>\n",
              "      <td>0.0000</td>\n",
              "    </tr>\n",
              "    <tr>\n",
              "      <th>1</th>\n",
              "      <td>0.2</td>\n",
              "      <td>18.0</td>\n",
              "      <td>0.5</td>\n",
              "      <td>0.849057</td>\n",
              "      <td>0.020576</td>\n",
              "      <td>86.40</td>\n",
              "      <td>0.5760</td>\n",
              "      <td>86.40</td>\n",
              "      <td>0.5760</td>\n",
              "    </tr>\n",
              "    <tr>\n",
              "      <th>2</th>\n",
              "      <td>0.4</td>\n",
              "      <td>10.6</td>\n",
              "      <td>1.4</td>\n",
              "      <td>0.500000</td>\n",
              "      <td>0.057613</td>\n",
              "      <td>50.88</td>\n",
              "      <td>1.6128</td>\n",
              "      <td>50.88</td>\n",
              "      <td>1.6128</td>\n",
              "    </tr>\n",
              "    <tr>\n",
              "      <th>3</th>\n",
              "      <td>0.6</td>\n",
              "      <td>3.0</td>\n",
              "      <td>2.9</td>\n",
              "      <td>0.141509</td>\n",
              "      <td>0.119342</td>\n",
              "      <td>14.40</td>\n",
              "      <td>3.3408</td>\n",
              "      <td>14.40</td>\n",
              "      <td>3.3408</td>\n",
              "    </tr>\n",
              "    <tr>\n",
              "      <th>4</th>\n",
              "      <td>0.8</td>\n",
              "      <td>0.4</td>\n",
              "      <td>6.5</td>\n",
              "      <td>0.018868</td>\n",
              "      <td>0.267490</td>\n",
              "      <td>1.92</td>\n",
              "      <td>7.4880</td>\n",
              "      <td>1.92</td>\n",
              "      <td>7.4880</td>\n",
              "    </tr>\n",
              "    <tr>\n",
              "      <th>5</th>\n",
              "      <td>1.0</td>\n",
              "      <td>0.0</td>\n",
              "      <td>24.3</td>\n",
              "      <td>0.000000</td>\n",
              "      <td>1.000000</td>\n",
              "      <td>0.00</td>\n",
              "      <td>27.9936</td>\n",
              "      <td>0.00</td>\n",
              "      <td>27.9936</td>\n",
              "    </tr>\n",
              "  </tbody>\n",
              "</table>\n",
              "</div>"
            ],
            "text/plain": [
              "    Sw    qo    qw      kr_o  ...     k_o      k_w  k_o (phase k)  k_w (phase k)\n",
              "0  0.0  21.2   0.0  1.000000  ...  101.76   0.0000         101.76         0.0000\n",
              "1  0.2  18.0   0.5  0.849057  ...   86.40   0.5760          86.40         0.5760\n",
              "2  0.4  10.6   1.4  0.500000  ...   50.88   1.6128          50.88         1.6128\n",
              "3  0.6   3.0   2.9  0.141509  ...   14.40   3.3408          14.40         3.3408\n",
              "4  0.8   0.4   6.5  0.018868  ...    1.92   7.4880           1.92         7.4880\n",
              "5  1.0   0.0  24.3  0.000000  ...    0.00  27.9936           0.00        27.9936\n",
              "\n",
              "[6 rows x 9 columns]"
            ]
          },
          "metadata": {
            "tags": []
          },
          "execution_count": 27
        }
      ]
    },
    {
      "cell_type": "code",
      "metadata": {
        "id": "0E66tqiyyYj5",
        "colab_type": "code",
        "colab": {
          "base_uri": "https://localhost:8080/",
          "height": 319
        },
        "outputId": "28962e5a-bc09-4ce3-afd8-38fdcec7dca3"
      },
      "source": [
        "p1 = plt.plot(df['Sw'], df['k_o (phase k)'])\n",
        "p2 = plt.plot(df['Sw'], df['k_w (phase k)'])\n",
        "plt.xlabel(\"Sw\")\n",
        "plt.ylabel(\"k_o, k_w\")\n",
        "plt.legend((p1[0], p2[0]), ('k_o', 'k_w'))\n",
        "plt.title(\"Phase Permeabilities\")"
      ],
      "execution_count": null,
      "outputs": [
        {
          "output_type": "execute_result",
          "data": {
            "text/plain": [
              "Text(0.5, 1.0, 'Phase Permeabilities')"
            ]
          },
          "metadata": {
            "tags": []
          },
          "execution_count": 29
        },
        {
          "output_type": "display_data",
          "data": {
            "image/png": "[encoded data removed]",
            "text/plain": [
              "<Figure size 432x288 with 1 Axes>"
            ]
          },
          "metadata": {
            "tags": []
          }
        }
      ]
    },
    {
      "cell_type": "code",
      "metadata": {
        "id": "u2C4iHnbz5s-",
        "colab_type": "code",
        "colab": {}
      },
      "source": [
        ""
      ],
      "execution_count": null,
      "outputs": []
    },
    {
      "cell_type": "markdown",
      "metadata": {
        "id": "s301yofb1YN6",
        "colab_type": "text"
      },
      "source": [
        "# One with relperm model\n",
        "Corey 2 phase model"
      ]
    },
    {
      "cell_type": "code",
      "metadata": {
        "id": "6RP2O2X21bZk",
        "colab_type": "code",
        "colab": {}
      },
      "source": [
        "Sw = np.linspace(0,1,100)\n",
        "\n",
        "Swirr = 0.15  #irreducible water saturation \n",
        "\n",
        "Swn = (Sw - Swirr)/(1-Swirr)\n",
        "\n",
        "Krw = Swn**4\n",
        "\n",
        "Kro = ((1 - Swn)**2)*(1 - Swn**2)"
      ],
      "execution_count": null,
      "outputs": []
    },
    {
      "cell_type": "code",
      "metadata": {
        "id": "qfgA8PN2235S",
        "colab_type": "code",
        "colab": {
          "base_uri": "https://localhost:8080/",
          "height": 319
        },
        "outputId": "b6a7efad-3e05-416e-bbe7-696cd28f1757"
      },
      "source": [
        "p1 = plt.plot(Sw, Kro)\n",
        "p2 = plt.plot(Sw, Krw)\n",
        "plt.xlabel(\"Sw\")\n",
        "plt.ylabel(\"k_o, k_w\")\n",
        "plt.legend((p1[0], p2[0]), ('k_o', 'k_w'))\n",
        "plt.title(\"Relative Permeabilities\")"
      ],
      "execution_count": null,
      "outputs": [
        {
          "output_type": "execute_result",
          "data": {
            "text/plain": [
              "Text(0.5, 1.0, 'Relative Permeabilities')"
            ]
          },
          "metadata": {
            "tags": []
          },
          "execution_count": 32
        },
        {
          "output_type": "display_data",
          "data": {
            "image/png": "[encoded data removed]",
            "text/plain": [
              "<Figure size 432x288 with 1 Axes>"
            ]
          },
          "metadata": {
            "tags": []
          }
        }
      ]
    },
    {
      "cell_type": "code",
      "metadata": {
        "id": "OQLNRvop355L",
        "colab_type": "code",
        "colab": {}
      },
      "source": [
        ""
      ],
      "execution_count": null,
      "outputs": []
    }
  ]
}