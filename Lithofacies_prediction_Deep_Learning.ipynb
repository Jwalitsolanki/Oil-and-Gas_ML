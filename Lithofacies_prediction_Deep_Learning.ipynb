{
  "nbformat": 4,
  "nbformat_minor": 0,
  "metadata": {
    "colab": {
      "name": "Lithofacies prediction Deep Learning.ipynb",
      "provenance": [],
      "collapsed_sections": [],
      "authorship_tag": "ABX9TyNm8pTWL5wbSZ6gEYuvoCKs",
      "include_colab_link": true
    },
    "kernelspec": {
      "name": "python3",
      "display_name": "Python 3"
    }
  },
  "cells": [
    {
      "cell_type": "markdown",
      "metadata": {
        "id": "view-in-github",
        "colab_type": "text"
      },
      "source": [
        "<a href=\"https://colab.research.google.com/github/Jwalitsolanki/Oil-and-Gas_ML/blob/master/Lithofacies_prediction_Deep_Learning.ipynb\" target=\"_parent\"><img src=\"https://colab.research.google.com/assets/colab-badge.svg\" alt=\"Open In Colab\"/></a>"
      ]
    },
    {
      "cell_type": "code",
      "metadata": {
        "id": "lvog5ZPlpqOZ"
      },
      "source": [
        "%matplotlib inline\r\n",
        "import pandas as pd\r\n",
        "import numpy as np\r\n",
        "import matplotlib as mpl\r\n",
        "import matplotlib.pyplot as plt\r\n",
        "import seaborn as sns\r\n",
        "import matplotlib.colors as colors\r\n",
        "from mpl_toolkits.axes_grid1 import make_axes_locatable\r\n",
        "sns.set()\r\n",
        "\r\n",
        "from sklearn.decomposition import PCA\r\n",
        "from sklearn.preprocessing import StandardScaler\r\n",
        "from sklearn.model_selection import train_test_split\r\n",
        "from sklearn.tree import DecisionTreeClassifier\r\n",
        "from sklearn.ensemble import RandomForestClassifier\r\n",
        "from sklearn.neighbors import KNeighborsClassifier\r\n",
        "from sklearn.linear_model import LogisticRegression\r\n",
        "from sklearn.preprocessing import LabelEncoder\r\n",
        "from sklearn import metrics\r\n",
        "from sklearn.pipeline import Pipeline\r\n",
        "\r\n",
        "from pandas import set_option\r\n",
        "set_option(\"display.max_rows\", 10)\r\n",
        "pd.options.mode.chained_assignment = None"
      ],
      "execution_count": null,
      "outputs": []
    },
    {
      "cell_type": "code",
      "metadata": {
        "colab": {
          "base_uri": "https://localhost:8080/",
          "height": 202
        },
        "id": "z0PueOAUqJ4-",
        "outputId": "6ee4190b-40c4-4ed5-b1d0-5ad54617181b"
      },
      "source": [
        "df = pd.read_csv('/content/train.csv')\r\n",
        "df.head()"
      ],
      "execution_count": null,
      "outputs": [
        {
          "output_type": "execute_result",
          "data": {
            "text/html": [
              "<div>\n",
              "<style scoped>\n",
              "    .dataframe tbody tr th:only-of-type {\n",
              "        vertical-align: middle;\n",
              "    }\n",
              "\n",
              "    .dataframe tbody tr th {\n",
              "        vertical-align: top;\n",
              "    }\n",
              "\n",
              "    .dataframe thead th {\n",
              "        text-align: right;\n",
              "    }\n",
              "</style>\n",
              "<table border=\"1\" class=\"dataframe\">\n",
              "  <thead>\n",
              "    <tr style=\"text-align: right;\">\n",
              "      <th></th>\n",
              "      <th>Facies</th>\n",
              "      <th>Formation</th>\n",
              "      <th>Well Name</th>\n",
              "      <th>Depth</th>\n",
              "      <th>GR</th>\n",
              "      <th>ILD_log10</th>\n",
              "      <th>DeltaPHI</th>\n",
              "      <th>PHIND</th>\n",
              "      <th>PE</th>\n",
              "      <th>NM_M</th>\n",
              "      <th>RELPOS</th>\n",
              "    </tr>\n",
              "  </thead>\n",
              "  <tbody>\n",
              "    <tr>\n",
              "      <th>0</th>\n",
              "      <td>3</td>\n",
              "      <td>A1 SH</td>\n",
              "      <td>SHRIMPLIN</td>\n",
              "      <td>2793.0</td>\n",
              "      <td>77.45</td>\n",
              "      <td>0.664</td>\n",
              "      <td>9.9</td>\n",
              "      <td>11.915</td>\n",
              "      <td>4.6</td>\n",
              "      <td>1</td>\n",
              "      <td>1.000</td>\n",
              "    </tr>\n",
              "    <tr>\n",
              "      <th>1</th>\n",
              "      <td>3</td>\n",
              "      <td>A1 SH</td>\n",
              "      <td>SHRIMPLIN</td>\n",
              "      <td>2793.5</td>\n",
              "      <td>78.26</td>\n",
              "      <td>0.661</td>\n",
              "      <td>14.2</td>\n",
              "      <td>12.565</td>\n",
              "      <td>4.1</td>\n",
              "      <td>1</td>\n",
              "      <td>0.979</td>\n",
              "    </tr>\n",
              "    <tr>\n",
              "      <th>2</th>\n",
              "      <td>3</td>\n",
              "      <td>A1 SH</td>\n",
              "      <td>SHRIMPLIN</td>\n",
              "      <td>2794.0</td>\n",
              "      <td>79.05</td>\n",
              "      <td>0.658</td>\n",
              "      <td>14.8</td>\n",
              "      <td>13.050</td>\n",
              "      <td>3.6</td>\n",
              "      <td>1</td>\n",
              "      <td>0.957</td>\n",
              "    </tr>\n",
              "    <tr>\n",
              "      <th>3</th>\n",
              "      <td>3</td>\n",
              "      <td>A1 SH</td>\n",
              "      <td>SHRIMPLIN</td>\n",
              "      <td>2794.5</td>\n",
              "      <td>86.10</td>\n",
              "      <td>0.655</td>\n",
              "      <td>13.9</td>\n",
              "      <td>13.115</td>\n",
              "      <td>3.5</td>\n",
              "      <td>1</td>\n",
              "      <td>0.936</td>\n",
              "    </tr>\n",
              "    <tr>\n",
              "      <th>4</th>\n",
              "      <td>3</td>\n",
              "      <td>A1 SH</td>\n",
              "      <td>SHRIMPLIN</td>\n",
              "      <td>2795.0</td>\n",
              "      <td>74.58</td>\n",
              "      <td>0.647</td>\n",
              "      <td>13.5</td>\n",
              "      <td>13.300</td>\n",
              "      <td>3.4</td>\n",
              "      <td>1</td>\n",
              "      <td>0.915</td>\n",
              "    </tr>\n",
              "  </tbody>\n",
              "</table>\n",
              "</div>"
            ],
            "text/plain": [
              "   Facies Formation  Well Name   Depth  ...   PHIND   PE  NM_M  RELPOS\n",
              "0       3     A1 SH  SHRIMPLIN  2793.0  ...  11.915  4.6     1   1.000\n",
              "1       3     A1 SH  SHRIMPLIN  2793.5  ...  12.565  4.1     1   0.979\n",
              "2       3     A1 SH  SHRIMPLIN  2794.0  ...  13.050  3.6     1   0.957\n",
              "3       3     A1 SH  SHRIMPLIN  2794.5  ...  13.115  3.5     1   0.936\n",
              "4       3     A1 SH  SHRIMPLIN  2795.0  ...  13.300  3.4     1   0.915\n",
              "\n",
              "[5 rows x 11 columns]"
            ]
          },
          "metadata": {
            "tags": []
          },
          "execution_count": 24
        }
      ]
    },
    {
      "cell_type": "code",
      "metadata": {
        "colab": {
          "base_uri": "https://localhost:8080/"
        },
        "id": "ovX-9OSrqNpd",
        "outputId": "061de19f-8dad-426c-8f2f-57c041e1f3d0"
      },
      "source": [
        "df['Well Name'].unique()"
      ],
      "execution_count": null,
      "outputs": [
        {
          "output_type": "execute_result",
          "data": {
            "text/plain": [
              "array(['SHRIMPLIN', 'ALEXANDER D', 'SHANKLE', 'LUKE G U', 'KIMZEY A',\n",
              "       'CROSS H CATTLE', 'NOLAN', 'Recruit F9', 'NEWBY',\n",
              "       'CHURCHMAN BIBLE'], dtype=object)"
            ]
          },
          "metadata": {
            "tags": []
          },
          "execution_count": 25
        }
      ]
    },
    {
      "cell_type": "code",
      "metadata": {
        "id": "PQnXilaSqPfR"
      },
      "source": [
        "feature_names = ['GR', 'ILD_log10', 'DeltaPHI', 'PHIND', 'PE']\r\n",
        "facies_names = ['SS', 'CSiS', 'FSiS', 'SiSh', 'MS', 'WS', 'D', 'PS', 'BS']\r\n",
        "facies_colors = ['#F4D03F', '#F5B041','#DC7633','#6E2C00', '#1B4F72','#2E86C1', '#AED6F1', '#A569BD', '#196F3D']\r\n",
        "\r\n",
        "\r\n",
        "X = df[feature_names].values \r\n",
        "y = df['Facies'].values\r\n",
        "\r\n",
        "well = df['Well Name'].values\r\n",
        "depth = df['Depth'].values"
      ],
      "execution_count": null,
      "outputs": []
    },
    {
      "cell_type": "code",
      "metadata": {
        "colab": {
          "base_uri": "https://localhost:8080/",
          "height": 541
        },
        "id": "tSpQ3z1uqRGi",
        "outputId": "9d92f851-0e60-42c9-d35f-9aa9ae749a40"
      },
      "source": [
        "import missingno\r\n",
        "missingno.matrix(df)"
      ],
      "execution_count": null,
      "outputs": [
        {
          "output_type": "execute_result",
          "data": {
            "text/plain": [
              "<matplotlib.axes._subplots.AxesSubplot at 0x7f38fa6aa710>"
            ]
          },
          "metadata": {
            "tags": []
          },
          "execution_count": 27
        },
        {
          "output_type": "display_data",
          "data": {
            "image/png": "[encoded data removed]",
            "text/plain": [
              "<Figure size 1800x720 with 2 Axes>"
            ]
          },
          "metadata": {
            "tags": []
          }
        }
      ]
    },
    {
      "cell_type": "code",
      "metadata": {
        "id": "rMUDUwmrqUh1"
      },
      "source": [
        "#Just a copy, incase it gets ugly!\r\n",
        "df_1 = df.copy()"
      ],
      "execution_count": null,
      "outputs": []
    },
    {
      "cell_type": "code",
      "metadata": {
        "colab": {
          "base_uri": "https://localhost:8080/"
        },
        "id": "Ge8kG5fhqZ-B",
        "outputId": "5838d8ed-8d0c-4811-8e90-e64365d65268"
      },
      "source": [
        "blind = df_1[df_1['Well Name'] == 'SHANKLE']\r\n",
        "training_data = df_1[df_1['Well Name'] != 'SHANKLE']\r\n",
        "print(training_data.shape)"
      ],
      "execution_count": null,
      "outputs": [
        {
          "output_type": "stream",
          "text": [
            "(3700, 11)\n"
          ],
          "name": "stdout"
        }
      ]
    },
    {
      "cell_type": "code",
      "metadata": {
        "id": "IrTm4m4gqcgW"
      },
      "source": [
        "facies_color_map = {}\r\n",
        "for ind, label in enumerate(facies_names):\r\n",
        "    facies_color_map[label] = facies_colors[ind]"
      ],
      "execution_count": null,
      "outputs": []
    },
    {
      "cell_type": "code",
      "metadata": {
        "colab": {
          "base_uri": "https://localhost:8080/",
          "height": 325
        },
        "id": "_6Z5JxxcqkNX",
        "outputId": "87dc4f35-ab39-4470-d316-a2cbfc35a3d2"
      },
      "source": [
        "def label_facies(row, labels):\r\n",
        "    return labels[ row['Facies'] -1]\r\n",
        "    \r\n",
        "training_data.loc[:,'FaciesLabels'] = training_data.apply(lambda row: label_facies(row, facies_names), axis=1)\r\n",
        "training_data.describe().T"
      ],
      "execution_count": null,
      "outputs": [
        {
          "output_type": "execute_result",
          "data": {
            "text/html": [
              "<div>\n",
              "<style scoped>\n",
              "    .dataframe tbody tr th:only-of-type {\n",
              "        vertical-align: middle;\n",
              "    }\n",
              "\n",
              "    .dataframe tbody tr th {\n",
              "        vertical-align: top;\n",
              "    }\n",
              "\n",
              "    .dataframe thead th {\n",
              "        text-align: right;\n",
              "    }\n",
              "</style>\n",
              "<table border=\"1\" class=\"dataframe\">\n",
              "  <thead>\n",
              "    <tr style=\"text-align: right;\">\n",
              "      <th></th>\n",
              "      <th>count</th>\n",
              "      <th>mean</th>\n",
              "      <th>std</th>\n",
              "      <th>min</th>\n",
              "      <th>25%</th>\n",
              "      <th>50%</th>\n",
              "      <th>75%</th>\n",
              "      <th>max</th>\n",
              "    </tr>\n",
              "  </thead>\n",
              "  <tbody>\n",
              "    <tr>\n",
              "      <th>Facies</th>\n",
              "      <td>3700.0</td>\n",
              "      <td>4.615676</td>\n",
              "      <td>2.475808</td>\n",
              "      <td>1.000000</td>\n",
              "      <td>2.00000</td>\n",
              "      <td>4.000000</td>\n",
              "      <td>7.0000</td>\n",
              "      <td>9.000</td>\n",
              "    </tr>\n",
              "    <tr>\n",
              "      <th>Depth</th>\n",
              "      <td>3700.0</td>\n",
              "      <td>2908.853378</td>\n",
              "      <td>139.010855</td>\n",
              "      <td>2573.500000</td>\n",
              "      <td>2818.50000</td>\n",
              "      <td>2939.000000</td>\n",
              "      <td>3015.1250</td>\n",
              "      <td>3138.000</td>\n",
              "    </tr>\n",
              "    <tr>\n",
              "      <th>GR</th>\n",
              "      <td>3700.0</td>\n",
              "      <td>64.873649</td>\n",
              "      <td>30.817166</td>\n",
              "      <td>10.149000</td>\n",
              "      <td>43.77825</td>\n",
              "      <td>64.817000</td>\n",
              "      <td>80.3225</td>\n",
              "      <td>361.150</td>\n",
              "    </tr>\n",
              "    <tr>\n",
              "      <th>ILD_log10</th>\n",
              "      <td>3700.0</td>\n",
              "      <td>0.663053</td>\n",
              "      <td>0.253863</td>\n",
              "      <td>-0.025949</td>\n",
              "      <td>0.50200</td>\n",
              "      <td>0.645613</td>\n",
              "      <td>0.8230</td>\n",
              "      <td>1.800</td>\n",
              "    </tr>\n",
              "    <tr>\n",
              "      <th>DeltaPHI</th>\n",
              "      <td>3700.0</td>\n",
              "      <td>4.651677</td>\n",
              "      <td>5.109006</td>\n",
              "      <td>-21.832000</td>\n",
              "      <td>1.80000</td>\n",
              "      <td>4.400000</td>\n",
              "      <td>7.6000</td>\n",
              "      <td>19.312</td>\n",
              "    </tr>\n",
              "    <tr>\n",
              "      <th>PHIND</th>\n",
              "      <td>3700.0</td>\n",
              "      <td>12.892826</td>\n",
              "      <td>6.796219</td>\n",
              "      <td>0.550000</td>\n",
              "      <td>8.35000</td>\n",
              "      <td>11.857500</td>\n",
              "      <td>15.7500</td>\n",
              "      <td>84.400</td>\n",
              "    </tr>\n",
              "    <tr>\n",
              "      <th>PE</th>\n",
              "      <td>2783.0</td>\n",
              "      <td>3.805693</td>\n",
              "      <td>0.894118</td>\n",
              "      <td>0.200000</td>\n",
              "      <td>3.20000</td>\n",
              "      <td>3.600000</td>\n",
              "      <td>4.4000</td>\n",
              "      <td>8.094</td>\n",
              "    </tr>\n",
              "    <tr>\n",
              "      <th>NM_M</th>\n",
              "      <td>3700.0</td>\n",
              "      <td>1.540000</td>\n",
              "      <td>0.498465</td>\n",
              "      <td>1.000000</td>\n",
              "      <td>1.00000</td>\n",
              "      <td>2.000000</td>\n",
              "      <td>2.0000</td>\n",
              "      <td>2.000</td>\n",
              "    </tr>\n",
              "    <tr>\n",
              "      <th>RELPOS</th>\n",
              "      <td>3700.0</td>\n",
              "      <td>0.524125</td>\n",
              "      <td>0.287147</td>\n",
              "      <td>0.000000</td>\n",
              "      <td>0.27800</td>\n",
              "      <td>0.531000</td>\n",
              "      <td>0.7720</td>\n",
              "      <td>1.000</td>\n",
              "    </tr>\n",
              "  </tbody>\n",
              "</table>\n",
              "</div>"
            ],
            "text/plain": [
              "            count         mean         std  ...          50%        75%       max\n",
              "Facies     3700.0     4.615676    2.475808  ...     4.000000     7.0000     9.000\n",
              "Depth      3700.0  2908.853378  139.010855  ...  2939.000000  3015.1250  3138.000\n",
              "GR         3700.0    64.873649   30.817166  ...    64.817000    80.3225   361.150\n",
              "ILD_log10  3700.0     0.663053    0.253863  ...     0.645613     0.8230     1.800\n",
              "DeltaPHI   3700.0     4.651677    5.109006  ...     4.400000     7.6000    19.312\n",
              "PHIND      3700.0    12.892826    6.796219  ...    11.857500    15.7500    84.400\n",
              "PE         2783.0     3.805693    0.894118  ...     3.600000     4.4000     8.094\n",
              "NM_M       3700.0     1.540000    0.498465  ...     2.000000     2.0000     2.000\n",
              "RELPOS     3700.0     0.524125    0.287147  ...     0.531000     0.7720     1.000\n",
              "\n",
              "[9 rows x 8 columns]"
            ]
          },
          "metadata": {
            "tags": []
          },
          "execution_count": 31
        }
      ]
    },
    {
      "cell_type": "code",
      "metadata": {
        "id": "m-l2oCC4ql8I"
      },
      "source": [
        "import operator\r\n",
        "\r\n",
        "def outlier_removal(df, op, limit, replace):\r\n",
        "    temp_name = df.name\r\n",
        "    print('Before outlier removal for',df.name)\r\n",
        "    print(df.name,'Min',min(df[df.notnull()]))\r\n",
        "    print(df.name,'Max',max(df[df.notnull()]))\r\n",
        "    outliers = [x for x in df if op(x,limit)]\r\n",
        "    print('Number of',df.name,'outliers:',len(outliers),'\\n')\r\n",
        "    \r\n",
        "    df = np.where((op(df,limit)), replace, df)\r\n",
        "    df = pd.Series(df)\r\n",
        "    print('After outlier removal for',temp_name)\r\n",
        "    print(temp_name,'Min',min(df[df.notnull()]))\r\n",
        "    print(temp_name,'Max',max(df[df.notnull()]))\r\n",
        "    \r\n",
        "    return df"
      ],
      "execution_count": null,
      "outputs": []
    },
    {
      "cell_type": "code",
      "metadata": {
        "colab": {
          "base_uri": "https://localhost:8080/"
        },
        "id": "MqVGr0nJxF_O",
        "outputId": "07bfe42f-ed70-4e67-ef5b-780f9f3d8d46"
      },
      "source": [
        "df['GR'] = outlier_removal(df['GR'], operator.gt, 200, 200)\r\n",
        "df['ILD_log10'] = outlier_removal(df['ILD_log10'], operator.le, 0, np.nan)"
      ],
      "execution_count": null,
      "outputs": [
        {
          "output_type": "stream",
          "text": [
            "Before outlier removal for GR\n",
            "GR Min 10.149\n",
            "GR Max 361.15\n",
            "Number of GR outliers: 27 \n",
            "\n",
            "After outlier removal for GR\n",
            "GR Min 10.149\n",
            "GR Max 200.0\n",
            "Before outlier removal for ILD_log10\n",
            "ILD_log10 Min -0.025949097\n",
            "ILD_log10 Max 1.8\n",
            "Number of ILD_log10 outliers: 12 \n",
            "\n",
            "After outlier removal for ILD_log10\n",
            "ILD_log10 Min 0.0021660620000000003\n",
            "ILD_log10 Max 1.8\n"
          ],
          "name": "stdout"
        }
      ]
    },
    {
      "cell_type": "code",
      "metadata": {
        "colab": {
          "base_uri": "https://localhost:8080/"
        },
        "id": "D-jVB7Xoqql1",
        "outputId": "ca55c9c3-4d88-45b2-8cd0-3c9a72f7e9d3"
      },
      "source": [
        "df.shape"
      ],
      "execution_count": null,
      "outputs": [
        {
          "output_type": "execute_result",
          "data": {
            "text/plain": [
              "(4149, 11)"
            ]
          },
          "metadata": {
            "tags": []
          },
          "execution_count": 34
        }
      ]
    },
    {
      "cell_type": "code",
      "metadata": {
        "id": "y22_z6EZuVnZ"
      },
      "source": [
        "X = df[['GR', 'ILD_log10', 'DeltaPHI', 'PHIND', 'PE']]\r\n",
        "y = df['Facies']"
      ],
      "execution_count": null,
      "outputs": []
    },
    {
      "cell_type": "code",
      "metadata": {
        "colab": {
          "base_uri": "https://localhost:8080/"
        },
        "id": "O4hXIzgqrI1F",
        "outputId": "90c4295f-00b6-4ea1-acb5-2c07ee840a22"
      },
      "source": [
        "from sklearn.model_selection import LeavePGroupsOut\r\n",
        "\r\n",
        "lpgo = LeavePGroupsOut(2)\r\n",
        "\r\n",
        "# Generate splits\r\n",
        "split_list = []\r\n",
        "for train, val in lpgo.split(X, y, groups=df['Well Name']):\r\n",
        "    hist_tr = np.histogram(y[train], bins=np.arange(len(facies_names)+1)+.5)\r\n",
        "    hist_val = np.histogram(y[val], bins=np.arange(len(facies_names)+1)+.5)\r\n",
        "    if np.all(hist_tr[0] != 0) & np.all(hist_val[0] != 0):\r\n",
        "        split_list.append({'train':train, 'val':val})\r\n",
        "            \r\n",
        "# Print splits\r\n",
        "for s, split in enumerate(split_list):\r\n",
        "    print('Split %d' % s)\r\n",
        "    print('    training:   %s' % (df['Well Name'][split['train']].unique()))\r\n",
        "    print('    validation: %s' % (df['Well Name'][split['val']].unique()))"
      ],
      "execution_count": null,
      "outputs": [
        {
          "output_type": "stream",
          "text": [
            "Split 0\n",
            "    training:   ['SHRIMPLIN' 'SHANKLE' 'LUKE G U' 'KIMZEY A' 'CROSS H CATTLE' 'NOLAN'\n",
            " 'Recruit F9' 'NEWBY']\n",
            "    validation: ['ALEXANDER D' 'CHURCHMAN BIBLE']\n",
            "Split 1\n",
            "    training:   ['SHRIMPLIN' 'SHANKLE' 'LUKE G U' 'KIMZEY A' 'NOLAN' 'Recruit F9' 'NEWBY'\n",
            " 'CHURCHMAN BIBLE']\n",
            "    validation: ['ALEXANDER D' 'CROSS H CATTLE']\n",
            "Split 2\n",
            "    training:   ['SHRIMPLIN' 'SHANKLE' 'LUKE G U' 'CROSS H CATTLE' 'NOLAN' 'Recruit F9'\n",
            " 'NEWBY' 'CHURCHMAN BIBLE']\n",
            "    validation: ['ALEXANDER D' 'KIMZEY A']\n",
            "Split 3\n",
            "    training:   ['SHRIMPLIN' 'SHANKLE' 'LUKE G U' 'KIMZEY A' 'CROSS H CATTLE' 'Recruit F9'\n",
            " 'NEWBY' 'CHURCHMAN BIBLE']\n",
            "    validation: ['ALEXANDER D' 'NOLAN']\n",
            "Split 4\n",
            "    training:   ['SHRIMPLIN' 'LUKE G U' 'KIMZEY A' 'CROSS H CATTLE' 'NOLAN' 'Recruit F9'\n",
            " 'NEWBY' 'CHURCHMAN BIBLE']\n",
            "    validation: ['ALEXANDER D' 'SHANKLE']\n",
            "Split 5\n",
            "    training:   ['SHRIMPLIN' 'ALEXANDER D' 'SHANKLE' 'LUKE G U' 'KIMZEY A' 'NOLAN'\n",
            " 'Recruit F9' 'NEWBY']\n",
            "    validation: ['CROSS H CATTLE' 'CHURCHMAN BIBLE']\n",
            "Split 6\n",
            "    training:   ['SHRIMPLIN' 'ALEXANDER D' 'SHANKLE' 'LUKE G U' 'CROSS H CATTLE' 'NOLAN'\n",
            " 'Recruit F9' 'NEWBY']\n",
            "    validation: ['KIMZEY A' 'CHURCHMAN BIBLE']\n",
            "Split 7\n",
            "    training:   ['SHRIMPLIN' 'ALEXANDER D' 'SHANKLE' 'KIMZEY A' 'CROSS H CATTLE' 'NOLAN'\n",
            " 'Recruit F9' 'NEWBY']\n",
            "    validation: ['LUKE G U' 'CHURCHMAN BIBLE']\n",
            "Split 8\n",
            "    training:   ['SHRIMPLIN' 'ALEXANDER D' 'SHANKLE' 'LUKE G U' 'KIMZEY A'\n",
            " 'CROSS H CATTLE' 'NOLAN' 'Recruit F9']\n",
            "    validation: ['NEWBY' 'CHURCHMAN BIBLE']\n",
            "Split 9\n",
            "    training:   ['SHRIMPLIN' 'ALEXANDER D' 'SHANKLE' 'LUKE G U' 'KIMZEY A'\n",
            " 'CROSS H CATTLE' 'Recruit F9' 'NEWBY']\n",
            "    validation: ['NOLAN' 'CHURCHMAN BIBLE']\n",
            "Split 10\n",
            "    training:   ['SHRIMPLIN' 'ALEXANDER D' 'SHANKLE' 'LUKE G U' 'KIMZEY A'\n",
            " 'CROSS H CATTLE' 'NOLAN' 'NEWBY']\n",
            "    validation: ['Recruit F9' 'CHURCHMAN BIBLE']\n",
            "Split 11\n",
            "    training:   ['SHRIMPLIN' 'ALEXANDER D' 'LUKE G U' 'KIMZEY A' 'CROSS H CATTLE' 'NOLAN'\n",
            " 'Recruit F9' 'NEWBY']\n",
            "    validation: ['SHANKLE' 'CHURCHMAN BIBLE']\n",
            "Split 12\n",
            "    training:   ['ALEXANDER D' 'SHANKLE' 'LUKE G U' 'KIMZEY A' 'CROSS H CATTLE' 'NOLAN'\n",
            " 'Recruit F9' 'NEWBY']\n",
            "    validation: ['SHRIMPLIN' 'CHURCHMAN BIBLE']\n",
            "Split 13\n",
            "    training:   ['SHRIMPLIN' 'ALEXANDER D' 'SHANKLE' 'LUKE G U' 'NOLAN' 'Recruit F9'\n",
            " 'NEWBY' 'CHURCHMAN BIBLE']\n",
            "    validation: ['KIMZEY A' 'CROSS H CATTLE']\n",
            "Split 14\n",
            "    training:   ['SHRIMPLIN' 'ALEXANDER D' 'SHANKLE' 'LUKE G U' 'KIMZEY A' 'NOLAN'\n",
            " 'Recruit F9' 'CHURCHMAN BIBLE']\n",
            "    validation: ['CROSS H CATTLE' 'NEWBY']\n",
            "Split 15\n",
            "    training:   ['SHRIMPLIN' 'ALEXANDER D' 'SHANKLE' 'LUKE G U' 'KIMZEY A' 'NOLAN' 'NEWBY'\n",
            " 'CHURCHMAN BIBLE']\n",
            "    validation: ['CROSS H CATTLE' 'Recruit F9']\n",
            "Split 16\n",
            "    training:   ['ALEXANDER D' 'SHANKLE' 'LUKE G U' 'KIMZEY A' 'NOLAN' 'Recruit F9'\n",
            " 'NEWBY' 'CHURCHMAN BIBLE']\n",
            "    validation: ['SHRIMPLIN' 'CROSS H CATTLE']\n",
            "Split 17\n",
            "    training:   ['SHRIMPLIN' 'ALEXANDER D' 'SHANKLE' 'CROSS H CATTLE' 'NOLAN' 'Recruit F9'\n",
            " 'NEWBY' 'CHURCHMAN BIBLE']\n",
            "    validation: ['LUKE G U' 'KIMZEY A']\n",
            "Split 18\n",
            "    training:   ['SHRIMPLIN' 'ALEXANDER D' 'SHANKLE' 'LUKE G U' 'CROSS H CATTLE' 'NOLAN'\n",
            " 'Recruit F9' 'CHURCHMAN BIBLE']\n",
            "    validation: ['KIMZEY A' 'NEWBY']\n",
            "Split 19\n",
            "    training:   ['SHRIMPLIN' 'ALEXANDER D' 'SHANKLE' 'LUKE G U' 'CROSS H CATTLE'\n",
            " 'Recruit F9' 'NEWBY' 'CHURCHMAN BIBLE']\n",
            "    validation: ['KIMZEY A' 'NOLAN']\n",
            "Split 20\n",
            "    training:   ['SHRIMPLIN' 'ALEXANDER D' 'SHANKLE' 'LUKE G U' 'CROSS H CATTLE' 'NOLAN'\n",
            " 'NEWBY' 'CHURCHMAN BIBLE']\n",
            "    validation: ['KIMZEY A' 'Recruit F9']\n",
            "Split 21\n",
            "    training:   ['SHRIMPLIN' 'ALEXANDER D' 'LUKE G U' 'CROSS H CATTLE' 'NOLAN'\n",
            " 'Recruit F9' 'NEWBY' 'CHURCHMAN BIBLE']\n",
            "    validation: ['SHANKLE' 'KIMZEY A']\n",
            "Split 22\n",
            "    training:   ['ALEXANDER D' 'SHANKLE' 'LUKE G U' 'CROSS H CATTLE' 'NOLAN' 'Recruit F9'\n",
            " 'NEWBY' 'CHURCHMAN BIBLE']\n",
            "    validation: ['SHRIMPLIN' 'KIMZEY A']\n",
            "Split 23\n",
            "    training:   ['SHRIMPLIN' 'ALEXANDER D' 'SHANKLE' 'LUKE G U' 'KIMZEY A'\n",
            " 'CROSS H CATTLE' 'Recruit F9' 'CHURCHMAN BIBLE']\n",
            "    validation: ['NOLAN' 'NEWBY']\n",
            "Split 24\n",
            "    training:   ['SHRIMPLIN' 'ALEXANDER D' 'LUKE G U' 'KIMZEY A' 'CROSS H CATTLE' 'NOLAN'\n",
            " 'Recruit F9' 'CHURCHMAN BIBLE']\n",
            "    validation: ['SHANKLE' 'NEWBY']\n",
            "Split 25\n",
            "    training:   ['SHRIMPLIN' 'ALEXANDER D' 'SHANKLE' 'LUKE G U' 'KIMZEY A'\n",
            " 'CROSS H CATTLE' 'NEWBY' 'CHURCHMAN BIBLE']\n",
            "    validation: ['NOLAN' 'Recruit F9']\n",
            "Split 26\n",
            "    training:   ['ALEXANDER D' 'SHANKLE' 'LUKE G U' 'KIMZEY A' 'CROSS H CATTLE'\n",
            " 'Recruit F9' 'NEWBY' 'CHURCHMAN BIBLE']\n",
            "    validation: ['SHRIMPLIN' 'NOLAN']\n",
            "Split 27\n",
            "    training:   ['SHRIMPLIN' 'ALEXANDER D' 'LUKE G U' 'KIMZEY A' 'CROSS H CATTLE' 'NOLAN'\n",
            " 'NEWBY' 'CHURCHMAN BIBLE']\n",
            "    validation: ['SHANKLE' 'Recruit F9']\n",
            "Split 28\n",
            "    training:   ['ALEXANDER D' 'LUKE G U' 'KIMZEY A' 'CROSS H CATTLE' 'NOLAN' 'Recruit F9'\n",
            " 'NEWBY' 'CHURCHMAN BIBLE']\n",
            "    validation: ['SHRIMPLIN' 'SHANKLE']\n"
          ],
          "name": "stdout"
        }
      ]
    },
    {
      "cell_type": "code",
      "metadata": {
        "id": "qYTbuLxXsWoE"
      },
      "source": [
        "X.fillna(0, inplace=True)"
      ],
      "execution_count": null,
      "outputs": []
    },
    {
      "cell_type": "code",
      "metadata": {
        "id": "645wz3Wnu_0b",
        "colab": {
          "base_uri": "https://localhost:8080/"
        },
        "outputId": "fc57bac2-3f8a-4c08-a751-ab5df0f805fc"
      },
      "source": [
        "X_1 = split['train']\r\n",
        "X_2 = split['val']\r\n",
        "print(X_1.shape)\r\n",
        "print(X_2.shape)"
      ],
      "execution_count": null,
      "outputs": [
        {
          "output_type": "stream",
          "text": [
            "(3229,)\n",
            "(920,)\n"
          ],
          "name": "stdout"
        }
      ]
    },
    {
      "cell_type": "code",
      "metadata": {
        "colab": {
          "base_uri": "https://localhost:8080/"
        },
        "id": "g-CfZN61y0Sq",
        "outputId": "869058f4-e97c-4a17-bdcf-8199330e8925"
      },
      "source": [
        "training_data['GR'] = outlier_removal(training_data['GR'], operator.gt, 200, 200)\r\n",
        "training_data['ILD_log10'] = outlier_removal(training_data['ILD_log10'], operator.le, 0, np.nan)"
      ],
      "execution_count": null,
      "outputs": [
        {
          "output_type": "stream",
          "text": [
            "Before outlier removal for GR\n",
            "GR Min 10.149\n",
            "GR Max 361.15\n",
            "Number of GR outliers: 23 \n",
            "\n",
            "After outlier removal for GR\n",
            "GR Min 10.149\n",
            "GR Max 200.0\n",
            "Before outlier removal for ILD_log10\n",
            "ILD_log10 Min -0.025949097\n",
            "ILD_log10 Max 1.8\n",
            "Number of ILD_log10 outliers: 12 \n",
            "\n",
            "After outlier removal for ILD_log10\n",
            "ILD_log10 Min 0.0021660620000000003\n",
            "ILD_log10 Max 1.8\n"
          ],
          "name": "stdout"
        }
      ]
    },
    {
      "cell_type": "code",
      "metadata": {
        "id": "fpnv5I1I2jXv"
      },
      "source": [
        "X_11 = training_data[['GR', 'ILD_log10', 'DeltaPHI', 'PHIND', 'PE']]\r\n",
        "y_11 = training_data['Facies']"
      ],
      "execution_count": null,
      "outputs": []
    },
    {
      "cell_type": "code",
      "metadata": {
        "id": "h9bVSY_D3Cqi"
      },
      "source": [
        "X_11.fillna(0, inplace=True)"
      ],
      "execution_count": null,
      "outputs": []
    },
    {
      "cell_type": "code",
      "metadata": {
        "id": "0O-tw6FZ73hU"
      },
      "source": [
        "from sklearn.model_selection import train_test_split\r\n",
        "X_train, X_test, y_train, y_test = train_test_split(X_11, y_11, test_size=0.2, random_state=42)"
      ],
      "execution_count": null,
      "outputs": []
    },
    {
      "cell_type": "code",
      "metadata": {
        "colab": {
          "base_uri": "https://localhost:8080/"
        },
        "id": "4NZshdk68Ctt",
        "outputId": "f8e5b6a3-44d3-44ec-b7bd-b28ec2a22361"
      },
      "source": [
        "print(X_test.shape)\r\n",
        "print(X_train.shape)"
      ],
      "execution_count": null,
      "outputs": [
        {
          "output_type": "stream",
          "text": [
            "(740, 5)\n",
            "(2960, 5)\n"
          ],
          "name": "stdout"
        }
      ]
    },
    {
      "cell_type": "code",
      "metadata": {
        "id": "qoHf5whH8pzD"
      },
      "source": [
        "X_111 = blind[['GR', 'ILD_log10', 'DeltaPHI', 'PHIND', 'PE']]\r\n",
        "y_111 = blind['Facies']"
      ],
      "execution_count": null,
      "outputs": []
    },
    {
      "cell_type": "code",
      "metadata": {
        "colab": {
          "base_uri": "https://localhost:8080/",
          "height": 202
        },
        "id": "irKJyjXn3Fee",
        "outputId": "ce09abc6-6d23-4ec3-89d1-9182ddbed13c"
      },
      "source": [
        "blind.head()"
      ],
      "execution_count": null,
      "outputs": [
        {
          "output_type": "execute_result",
          "data": {
            "text/html": [
              "<div>\n",
              "<style scoped>\n",
              "    .dataframe tbody tr th:only-of-type {\n",
              "        vertical-align: middle;\n",
              "    }\n",
              "\n",
              "    .dataframe tbody tr th {\n",
              "        vertical-align: top;\n",
              "    }\n",
              "\n",
              "    .dataframe thead th {\n",
              "        text-align: right;\n",
              "    }\n",
              "</style>\n",
              "<table border=\"1\" class=\"dataframe\">\n",
              "  <thead>\n",
              "    <tr style=\"text-align: right;\">\n",
              "      <th></th>\n",
              "      <th>Facies</th>\n",
              "      <th>Formation</th>\n",
              "      <th>Well Name</th>\n",
              "      <th>Depth</th>\n",
              "      <th>GR</th>\n",
              "      <th>ILD_log10</th>\n",
              "      <th>DeltaPHI</th>\n",
              "      <th>PHIND</th>\n",
              "      <th>PE</th>\n",
              "      <th>NM_M</th>\n",
              "      <th>RELPOS</th>\n",
              "    </tr>\n",
              "  </thead>\n",
              "  <tbody>\n",
              "    <tr>\n",
              "      <th>937</th>\n",
              "      <td>2</td>\n",
              "      <td>A1 SH</td>\n",
              "      <td>SHANKLE</td>\n",
              "      <td>2774.5</td>\n",
              "      <td>98.36</td>\n",
              "      <td>0.642</td>\n",
              "      <td>-0.1</td>\n",
              "      <td>18.685</td>\n",
              "      <td>2.9</td>\n",
              "      <td>1</td>\n",
              "      <td>1.000</td>\n",
              "    </tr>\n",
              "    <tr>\n",
              "      <th>938</th>\n",
              "      <td>2</td>\n",
              "      <td>A1 SH</td>\n",
              "      <td>SHANKLE</td>\n",
              "      <td>2775.0</td>\n",
              "      <td>97.57</td>\n",
              "      <td>0.631</td>\n",
              "      <td>7.9</td>\n",
              "      <td>16.745</td>\n",
              "      <td>3.2</td>\n",
              "      <td>1</td>\n",
              "      <td>0.984</td>\n",
              "    </tr>\n",
              "    <tr>\n",
              "      <th>939</th>\n",
              "      <td>2</td>\n",
              "      <td>A1 SH</td>\n",
              "      <td>SHANKLE</td>\n",
              "      <td>2775.5</td>\n",
              "      <td>98.41</td>\n",
              "      <td>0.615</td>\n",
              "      <td>12.8</td>\n",
              "      <td>14.105</td>\n",
              "      <td>3.2</td>\n",
              "      <td>1</td>\n",
              "      <td>0.968</td>\n",
              "    </tr>\n",
              "    <tr>\n",
              "      <th>940</th>\n",
              "      <td>2</td>\n",
              "      <td>A1 SH</td>\n",
              "      <td>SHANKLE</td>\n",
              "      <td>2776.0</td>\n",
              "      <td>85.92</td>\n",
              "      <td>0.597</td>\n",
              "      <td>13.0</td>\n",
              "      <td>13.385</td>\n",
              "      <td>3.4</td>\n",
              "      <td>1</td>\n",
              "      <td>0.952</td>\n",
              "    </tr>\n",
              "    <tr>\n",
              "      <th>941</th>\n",
              "      <td>2</td>\n",
              "      <td>A1 SH</td>\n",
              "      <td>SHANKLE</td>\n",
              "      <td>2776.5</td>\n",
              "      <td>83.16</td>\n",
              "      <td>0.592</td>\n",
              "      <td>12.3</td>\n",
              "      <td>13.345</td>\n",
              "      <td>3.4</td>\n",
              "      <td>1</td>\n",
              "      <td>0.935</td>\n",
              "    </tr>\n",
              "  </tbody>\n",
              "</table>\n",
              "</div>"
            ],
            "text/plain": [
              "     Facies Formation Well Name   Depth  ...   PHIND   PE  NM_M  RELPOS\n",
              "937       2     A1 SH   SHANKLE  2774.5  ...  18.685  2.9     1   1.000\n",
              "938       2     A1 SH   SHANKLE  2775.0  ...  16.745  3.2     1   0.984\n",
              "939       2     A1 SH   SHANKLE  2775.5  ...  14.105  3.2     1   0.968\n",
              "940       2     A1 SH   SHANKLE  2776.0  ...  13.385  3.4     1   0.952\n",
              "941       2     A1 SH   SHANKLE  2776.5  ...  13.345  3.4     1   0.935\n",
              "\n",
              "[5 rows x 11 columns]"
            ]
          },
          "metadata": {
            "tags": []
          },
          "execution_count": 51
        }
      ]
    },
    {
      "cell_type": "code",
      "metadata": {
        "colab": {
          "base_uri": "https://localhost:8080/"
        },
        "id": "XZ7vpB7Q4MS4",
        "outputId": "87fc0be4-eb7e-43c0-acac-4a18fba80aec"
      },
      "source": [
        "!pip install -q -U keras-tuner"
      ],
      "execution_count": null,
      "outputs": [
        {
          "output_type": "stream",
          "text": [
            "\u001b[?25l\r\u001b[K     |█████▏                          | 10kB 23.4MB/s eta 0:00:01\r\u001b[K     |██████████▍                     | 20kB 28.1MB/s eta 0:00:01\r\u001b[K     |███████████████▋                | 30kB 13.6MB/s eta 0:00:01\r\u001b[K     |████████████████████▉           | 40kB 10.2MB/s eta 0:00:01\r\u001b[K     |██████████████████████████      | 51kB 8.4MB/s eta 0:00:01\r\u001b[K     |███████████████████████████████▎| 61kB 8.8MB/s eta 0:00:01\r\u001b[K     |████████████████████████████████| 71kB 4.8MB/s \n",
            "\u001b[?25h  Building wheel for keras-tuner (setup.py) ... \u001b[?25l\u001b[?25hdone\n",
            "  Building wheel for terminaltables (setup.py) ... \u001b[?25l\u001b[?25hdone\n"
          ],
          "name": "stdout"
        }
      ]
    },
    {
      "cell_type": "code",
      "metadata": {
        "id": "pmhY2ypx3d8N"
      },
      "source": [
        "from tensorflow import keras\r\n",
        "from tensorflow.keras import layers\r\n",
        "from kerastuner.tuners import RandomSearch"
      ],
      "execution_count": null,
      "outputs": []
    },
    {
      "cell_type": "code",
      "metadata": {
        "id": "bqxcrccd3lfB"
      },
      "source": [
        "def build_model(hp):\r\n",
        "    model = keras.Sequential()\r\n",
        "    for i in range(hp.Int('num_layers', 2, 20)):\r\n",
        "        model.add(layers.Dense(units=hp.Int('units_' + str(i),\r\n",
        "                                            min_value=32,\r\n",
        "                                            max_value=512,\r\n",
        "                                            step=32),\r\n",
        "                               activation='relu'))\r\n",
        "    model.add(layers.Dense(10, activation='softmax'))\r\n",
        "    model.compile(\r\n",
        "        optimizer=keras.optimizers.Adam(\r\n",
        "            hp.Choice('learning_rate', [1e-2, 1e-3, 1e-4])),\r\n",
        "        loss='sparse_categorical_crossentropy',\r\n",
        "        metrics=['accuracy'])\r\n",
        "    return model"
      ],
      "execution_count": null,
      "outputs": []
    },
    {
      "cell_type": "code",
      "metadata": {
        "id": "T2FcDWg46v9e"
      },
      "source": [
        "tuner = RandomSearch(\r\n",
        "    build_model,\r\n",
        "    objective='val_accuracy',\r\n",
        "    max_trials=5,\r\n",
        "    executions_per_trial=3,\r\n",
        "    directory='Dr. Marathe sir short course on ML',\r\n",
        "    project_name='Kansas westfield DL_1')"
      ],
      "execution_count": null,
      "outputs": []
    },
    {
      "cell_type": "code",
      "metadata": {
        "colab": {
          "base_uri": "https://localhost:8080/"
        },
        "id": "I7B051dU7PPv",
        "outputId": "e185c562-ee40-41dd-9e63-293612e03e8a"
      },
      "source": [
        "tuner.search_space_summary()"
      ],
      "execution_count": null,
      "outputs": [
        {
          "output_type": "stream",
          "text": [
            "Search space summary\n",
            "Default search space size: 4\n",
            "num_layers (Int)\n",
            "{'default': None, 'conditions': [], 'min_value': 2, 'max_value': 20, 'step': 1, 'sampling': None}\n",
            "units_0 (Int)\n",
            "{'default': None, 'conditions': [], 'min_value': 32, 'max_value': 512, 'step': 32, 'sampling': None}\n",
            "units_1 (Int)\n",
            "{'default': None, 'conditions': [], 'min_value': 32, 'max_value': 512, 'step': 32, 'sampling': None}\n",
            "learning_rate (Choice)\n",
            "{'default': 0.01, 'conditions': [], 'values': [0.01, 0.001, 0.0001], 'ordered': True}\n"
          ],
          "name": "stdout"
        }
      ]
    },
    {
      "cell_type": "code",
      "metadata": {
        "colab": {
          "base_uri": "https://localhost:8080/"
        },
        "id": "6rmIlreV7qXS",
        "outputId": "8b4a2ae7-981e-418e-9810-305dc7ac7aaa"
      },
      "source": [
        "tuner.search(X_train, y_train,\r\n",
        "             epochs=20,\r\n",
        "             validation_data=(X_111, y_111))"
      ],
      "execution_count": null,
      "outputs": [
        {
          "output_type": "stream",
          "text": [
            "Trial 5 Complete [00h 01m 22s]\n",
            "val_accuracy: 0.24573124945163727\n",
            "\n",
            "Best val_accuracy So Far: 0.4454343020915985\n",
            "Total elapsed time: 00h 03m 53s\n",
            "INFO:tensorflow:Oracle triggered exit\n"
          ],
          "name": "stdout"
        }
      ]
    },
    {
      "cell_type": "code",
      "metadata": {
        "colab": {
          "base_uri": "https://localhost:8080/"
        },
        "id": "vPxfVUx8-O3V",
        "outputId": "e705112e-5266-47d4-82f1-be90615f81ea"
      },
      "source": [
        "tuner.results_summary()"
      ],
      "execution_count": null,
      "outputs": [
        {
          "output_type": "stream",
          "text": [
            "Results summary\n",
            "Results in Dr. Marathe sir short course on ML/Kansas westfield DL_1\n",
            "Showing 10 best trials\n",
            "Objective(name='val_accuracy', direction='max')\n",
            "Trial summary\n",
            "Hyperparameters:\n",
            "num_layers: 3\n",
            "units_0: 352\n",
            "units_1: 160\n",
            "learning_rate: 0.001\n",
            "units_2: 416\n",
            "units_3: 288\n",
            "units_4: 448\n",
            "units_5: 192\n",
            "units_6: 160\n",
            "units_7: 288\n",
            "units_8: 384\n",
            "units_9: 416\n",
            "units_10: 448\n",
            "units_11: 448\n",
            "units_12: 256\n",
            "units_13: 320\n",
            "units_14: 320\n",
            "units_15: 192\n",
            "Score: 0.4454343020915985\n",
            "Trial summary\n",
            "Hyperparameters:\n",
            "num_layers: 3\n",
            "units_0: 448\n",
            "units_1: 352\n",
            "learning_rate: 0.01\n",
            "units_2: 32\n",
            "Score: 0.44394951065381366\n",
            "Trial summary\n",
            "Hyperparameters:\n",
            "num_layers: 10\n",
            "units_0: 96\n",
            "units_1: 256\n",
            "learning_rate: 0.01\n",
            "units_2: 512\n",
            "units_3: 224\n",
            "units_4: 320\n",
            "units_5: 384\n",
            "units_6: 416\n",
            "units_7: 448\n",
            "units_8: 448\n",
            "units_9: 256\n",
            "units_10: 416\n",
            "units_11: 224\n",
            "units_12: 320\n",
            "units_13: 128\n",
            "units_14: 160\n",
            "units_15: 416\n",
            "Score: 0.3697104553381602\n",
            "Trial summary\n",
            "Hyperparameters:\n",
            "num_layers: 16\n",
            "units_0: 192\n",
            "units_1: 224\n",
            "learning_rate: 0.0001\n",
            "units_2: 448\n",
            "units_3: 32\n",
            "units_4: 32\n",
            "units_5: 32\n",
            "units_6: 32\n",
            "units_7: 32\n",
            "units_8: 32\n",
            "units_9: 32\n",
            "units_10: 32\n",
            "units_11: 32\n",
            "units_12: 32\n",
            "units_13: 32\n",
            "units_14: 32\n",
            "units_15: 32\n",
            "Score: 0.35337788860003155\n",
            "Trial summary\n",
            "Hyperparameters:\n",
            "num_layers: 11\n",
            "units_0: 192\n",
            "units_1: 352\n",
            "learning_rate: 0.01\n",
            "units_2: 384\n",
            "units_3: 384\n",
            "units_4: 256\n",
            "units_5: 416\n",
            "units_6: 256\n",
            "units_7: 96\n",
            "units_8: 416\n",
            "units_9: 416\n",
            "units_10: 480\n",
            "units_11: 64\n",
            "units_12: 224\n",
            "units_13: 128\n",
            "units_14: 32\n",
            "units_15: 416\n",
            "Score: 0.24573124945163727\n"
          ],
          "name": "stdout"
        }
      ]
    },
    {
      "cell_type": "code",
      "metadata": {
        "id": "wud39GG6-pHq"
      },
      "source": [
        ""
      ],
      "execution_count": null,
      "outputs": []
    }
  ]
}